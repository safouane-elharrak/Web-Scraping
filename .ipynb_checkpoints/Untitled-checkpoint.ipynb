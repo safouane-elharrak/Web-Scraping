{
 "cells": [
  {
   "cell_type": "code",
   "execution_count": 21,
   "id": "e8c5727a",
   "metadata": {},
   "outputs": [
    {
     "data": {
      "text/html": [
       "<div>\n",
       "<style scoped>\n",
       "    .dataframe tbody tr th:only-of-type {\n",
       "        vertical-align: middle;\n",
       "    }\n",
       "\n",
       "    .dataframe tbody tr th {\n",
       "        vertical-align: top;\n",
       "    }\n",
       "\n",
       "    .dataframe thead th {\n",
       "        text-align: right;\n",
       "    }\n",
       "</style>\n",
       "<table border=\"1\" class=\"dataframe\">\n",
       "  <thead>\n",
       "    <tr style=\"text-align: right;\">\n",
       "      <th></th>\n",
       "      <th>Unnamed: 0</th>\n",
       "      <th>Title</th>\n",
       "      <th>Location</th>\n",
       "      <th>Price</th>\n",
       "      <th>Sold</th>\n",
       "      <th>Available</th>\n",
       "      <th>Delivry</th>\n",
       "      <th>Country</th>\n",
       "      <th>city</th>\n",
       "    </tr>\n",
       "  </thead>\n",
       "  <tbody>\n",
       "    <tr>\n",
       "      <th>0</th>\n",
       "      <td>0</td>\n",
       "      <td>Vintage HMT Military 17j Winding 35mm Wrist W...</td>\n",
       "      <td>\\nMUMBAI, India\\n\\n\\n\\n\\n\\n</td>\n",
       "      <td>14.99</td>\n",
       "      <td>30</td>\n",
       "      <td>\\n\\n\\t\\t\\t\\t\\t\\t\\t\\tMore than 10 available\\n</td>\n",
       "      <td>Free Shipping and returns</td>\n",
       "      <td>India\\n\\n\\n\\n\\n\\n</td>\n",
       "      <td>\\nMUMBAI</td>\n",
       "    </tr>\n",
       "  </tbody>\n",
       "</table>\n",
       "</div>"
      ],
      "text/plain": [
       "   Unnamed: 0                                              Title  \\\n",
       "0           0   Vintage HMT Military 17j Winding 35mm Wrist W...   \n",
       "\n",
       "                      Location  Price Sold  \\\n",
       "0  \\nMUMBAI, India\\n\\n\\n\\n\\n\\n  14.99   30   \n",
       "\n",
       "                                      Available                    Delivry  \\\n",
       "0  \\n\\n\\t\\t\\t\\t\\t\\t\\t\\tMore than 10 available\\n  Free Shipping and returns   \n",
       "\n",
       "             Country      city  \n",
       "0  India\\n\\n\\n\\n\\n\\n  \\nMUMBAI  "
      ]
     },
     "execution_count": 21,
     "metadata": {},
     "output_type": "execute_result"
    }
   ],
   "source": [
    "import pandas as pd\n",
    "import os\n",
    "\n",
    "all_data = pd.read_excel(r\"/Users/Pro/Documents/Master MBD/MBD_S2/Web-Scraping/Ebay_Scrap/SinglePage.xlsx\")\n",
    "#all_data['City']=all_data['Country'].split(\",\")[1].strip(\" \")\n",
    "#all_data['Country'] == 'india'\n",
    "#all_data['Country']= all_data['Country'].apply(lambda x: x.strip(\" \\n\\n\\n\\r\\n\\ \").strip(\" Located in\"))\n",
    "all_data['Country']= all_data['Location'].apply(lambda x: x.split(\",\")[1].strip(\" \"))\n",
    "all_data['Sold']= all_data['Sold'].apply(lambda x: x.split(\" \")[0].strip(\"sold\"))\n",
    "all_data['Price']= all_data['Price'].apply(lambda x: x.split(\" \")[1].strip(\"GBP\"))\n",
    "\n",
    "all_data['Location']= all_data['Location'].apply(lambda x: x.split(\":\")[1].strip(\" \"))\n",
    "all_data['city']= all_data['Location'].apply(lambda x: x.split(\",\")[0])\n",
    "all_data.head()"
   ]
  },
  {
   "cell_type": "code",
   "execution_count": 13,
   "id": "33aaed32",
   "metadata": {},
   "outputs": [
    {
     "data": {
      "text/html": [
       "<div>\n",
       "<style scoped>\n",
       "    .dataframe tbody tr th:only-of-type {\n",
       "        vertical-align: middle;\n",
       "    }\n",
       "\n",
       "    .dataframe tbody tr th {\n",
       "        vertical-align: top;\n",
       "    }\n",
       "\n",
       "    .dataframe thead th {\n",
       "        text-align: right;\n",
       "    }\n",
       "</style>\n",
       "<table border=\"1\" class=\"dataframe\">\n",
       "  <thead>\n",
       "    <tr style=\"text-align: right;\">\n",
       "      <th></th>\n",
       "      <th>Unnamed: 0</th>\n",
       "      <th>Title</th>\n",
       "      <th>Location</th>\n",
       "      <th>Price</th>\n",
       "      <th>Sold</th>\n",
       "      <th>Available</th>\n",
       "      <th>Delivry</th>\n",
       "      <th>Country</th>\n",
       "      <th>city</th>\n",
       "      <th>Sales</th>\n",
       "    </tr>\n",
       "  </thead>\n",
       "  <tbody>\n",
       "    <tr>\n",
       "      <th>0</th>\n",
       "      <td>0</td>\n",
       "      <td>Vintage HMT Military 17j Winding 35mm Wrist W...</td>\n",
       "      <td>\\nMUMBAI, India\\n\\n\\n\\n\\n\\n</td>\n",
       "      <td>14.99</td>\n",
       "      <td>30</td>\n",
       "      <td>\\n\\n\\t\\t\\t\\t\\t\\t\\t\\tMore than 10 available\\n</td>\n",
       "      <td>Free Shipping and returns</td>\n",
       "      <td>India\\n\\n\\n\\n\\n\\n</td>\n",
       "      <td>\\nMUMBAI</td>\n",
       "      <td>449.7</td>\n",
       "    </tr>\n",
       "  </tbody>\n",
       "</table>\n",
       "</div>"
      ],
      "text/plain": [
       "   Unnamed: 0                                              Title  \\\n",
       "0           0   Vintage HMT Military 17j Winding 35mm Wrist W...   \n",
       "\n",
       "                      Location  Price  Sold  \\\n",
       "0  \\nMUMBAI, India\\n\\n\\n\\n\\n\\n  14.99    30   \n",
       "\n",
       "                                      Available                    Delivry  \\\n",
       "0  \\n\\n\\t\\t\\t\\t\\t\\t\\t\\tMore than 10 available\\n  Free Shipping and returns   \n",
       "\n",
       "             Country      city  Sales  \n",
       "0  India\\n\\n\\n\\n\\n\\n  \\nMUMBAI  449.7  "
      ]
     },
     "execution_count": 13,
     "metadata": {},
     "output_type": "execute_result"
    }
   ],
   "source": [
    "all_data['Sold'] = pd.to_numeric(all_data['Sold'])\n",
    "all_data['Price'] = pd.to_numeric(all_data['Price'])\n",
    "try :\n",
    "    all_data['Sales'] = all_data['Sold'].astype('int') * all_data['Price'].astype('float')\n",
    "except :\n",
    "    all_data['Sales'] = all_data['Price']\n",
    "all_data.head()\n"
   ]
  },
  {
   "cell_type": "code",
   "execution_count": 16,
   "id": "4e62b089",
   "metadata": {},
   "outputs": [
    {
     "data": {
      "text/html": [
       "<div>\n",
       "<style scoped>\n",
       "    .dataframe tbody tr th:only-of-type {\n",
       "        vertical-align: middle;\n",
       "    }\n",
       "\n",
       "    .dataframe tbody tr th {\n",
       "        vertical-align: top;\n",
       "    }\n",
       "\n",
       "    .dataframe thead th {\n",
       "        text-align: right;\n",
       "    }\n",
       "</style>\n",
       "<table border=\"1\" class=\"dataframe\">\n",
       "  <thead>\n",
       "    <tr style=\"text-align: right;\">\n",
       "      <th></th>\n",
       "      <th>Unnamed: 0</th>\n",
       "      <th>Title</th>\n",
       "      <th>Location</th>\n",
       "      <th>Price</th>\n",
       "      <th>Sold</th>\n",
       "      <th>Available</th>\n",
       "      <th>Delivry</th>\n",
       "      <th>Country</th>\n",
       "      <th>city</th>\n",
       "      <th>Sales</th>\n",
       "    </tr>\n",
       "  </thead>\n",
       "  <tbody>\n",
       "    <tr>\n",
       "      <th>0</th>\n",
       "      <td>0</td>\n",
       "      <td>Vintage HMT Military 17j Winding 35mm Wrist W...</td>\n",
       "      <td>\\nMUMBAI, India\\n\\n\\n\\n\\n\\n</td>\n",
       "      <td>14.99</td>\n",
       "      <td>30</td>\n",
       "      <td>\\n\\n\\t\\t\\t\\t\\t\\t\\t\\tMore than 10 available\\n</td>\n",
       "      <td>Free Shipping and returns</td>\n",
       "      <td>(Country, [(Country, 0    India\\n\\n\\n\\n\\n\\n\\nN...</td>\n",
       "      <td>\\nMUMBAI</td>\n",
       "      <td>449.7</td>\n",
       "    </tr>\n",
       "  </tbody>\n",
       "</table>\n",
       "</div>"
      ],
      "text/plain": [
       "   Unnamed: 0                                              Title  \\\n",
       "0           0   Vintage HMT Military 17j Winding 35mm Wrist W...   \n",
       "\n",
       "                      Location  Price  Sold  \\\n",
       "0  \\nMUMBAI, India\\n\\n\\n\\n\\n\\n  14.99    30   \n",
       "\n",
       "                                      Available                    Delivry  \\\n",
       "0  \\n\\n\\t\\t\\t\\t\\t\\t\\t\\tMore than 10 available\\n  Free Shipping and returns   \n",
       "\n",
       "                                             Country      city  Sales  \n",
       "0  (Country, [(Country, 0    India\\n\\n\\n\\n\\n\\n\\nN...  \\nMUMBAI  449.7  "
      ]
     },
     "execution_count": 16,
     "metadata": {},
     "output_type": "execute_result"
    }
   ],
   "source": [
    "all_data['Country'].groupby(by=['Country'])\n",
    "all_data.head()\n"
   ]
  },
  {
   "cell_type": "code",
   "execution_count": 22,
   "id": "a0fc4199",
   "metadata": {},
   "outputs": [
    {
     "ename": "ModuleNotFoundError",
     "evalue": "No module named 'matplotlib'",
     "output_type": "error",
     "traceback": [
      "\u001b[1;31m---------------------------------------------------------------------------\u001b[0m",
      "\u001b[1;31mModuleNotFoundError\u001b[0m                       Traceback (most recent call last)",
      "Input \u001b[1;32mIn [22]\u001b[0m, in \u001b[0;36m<cell line: 1>\u001b[1;34m()\u001b[0m\n\u001b[1;32m----> 1\u001b[0m \u001b[38;5;28;01mimport\u001b[39;00m \u001b[38;5;21;01mmatplotlib\u001b[39;00m\u001b[38;5;21;01m.\u001b[39;00m\u001b[38;5;21;01mpyplot\u001b[39;00m \u001b[38;5;28;01mas\u001b[39;00m \u001b[38;5;21;01mplt\u001b[39;00m\n\u001b[0;32m      3\u001b[0m keys \u001b[38;5;241m=\u001b[39m [country \u001b[38;5;28;01mfor\u001b[39;00m country, df \u001b[38;5;129;01min\u001b[39;00m all_data\u001b[38;5;241m.\u001b[39mgroupby([\u001b[38;5;124m'\u001b[39m\u001b[38;5;124mCountry\u001b[39m\u001b[38;5;124m'\u001b[39m])]\n\u001b[0;32m      5\u001b[0m plt\u001b[38;5;241m.\u001b[39mbar(keys,all_data\u001b[38;5;241m.\u001b[39mgroupby([\u001b[38;5;124m'\u001b[39m\u001b[38;5;124mCountry\u001b[39m\u001b[38;5;124m'\u001b[39m])\u001b[38;5;241m.\u001b[39msum()[\u001b[38;5;124m'\u001b[39m\u001b[38;5;124mSales\u001b[39m\u001b[38;5;124m'\u001b[39m])\n",
      "\u001b[1;31mModuleNotFoundError\u001b[0m: No module named 'matplotlib'"
     ]
    }
   ],
   "source": [
    "import matplotlib.pyplot as plt\n",
    "\n",
    "keys = [country for country, df in all_data.groupby(['Country'])]\n",
    "\n",
    "plt.bar(keys,all_data.groupby(['Country']).sum()['Sales'])\n",
    "plt.ylabel('Sales in USD ($)')\n",
    "plt.xlabel('Month number')\n",
    "plt.xticks(keys, rotation='vertical', size=8)\n",
    "plt.show()"
   ]
  },
  {
   "cell_type": "code",
   "execution_count": null,
   "id": "117d1743",
   "metadata": {},
   "outputs": [],
   "source": []
  },
  {
   "cell_type": "code",
   "execution_count": null,
   "id": "926a04d8",
   "metadata": {},
   "outputs": [],
   "source": []
  }
 ],
 "metadata": {
  "kernelspec": {
   "display_name": "Python 3 (ipykernel)",
   "language": "python",
   "name": "python3"
  },
  "language_info": {
   "codemirror_mode": {
    "name": "ipython",
    "version": 3
   },
   "file_extension": ".py",
   "mimetype": "text/x-python",
   "name": "python",
   "nbconvert_exporter": "python",
   "pygments_lexer": "ipython3",
   "version": "3.10.2"
  }
 },
 "nbformat": 4,
 "nbformat_minor": 5
}
